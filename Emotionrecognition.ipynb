{
  "nbformat": 4,
  "nbformat_minor": 0,
  "metadata": {
    "colab": {
      "name": "Emotionrecognition.ipynb",
      "provenance": [],
      "collapsed_sections": []
    },
    "kernelspec": {
      "name": "python3",
      "display_name": "Python 3"
    },
    "accelerator": "TPU"
  },
  "cells": [
    {
      "cell_type": "markdown",
      "metadata": {
        "id": "cheswKMnqn2b"
      },
      "source": [
        "## For Today, I'll be working on Emotion detection from faces using Keras"
      ]
    },
    {
      "cell_type": "markdown",
      "metadata": {
        "id": "zDw3XEBdqvUz"
      },
      "source": [
        "### Import libraries"
      ]
    },
    {
      "cell_type": "code",
      "metadata": {
        "id": "oLrT8A8MqVXR"
      },
      "source": [
        "import keras\n",
        "from keras.preprocessing.image import ImageDataGenerator\n",
        "from keras.models import Sequential\n",
        "from keras.layers import Dense,Dropout,Activation,Flatten,BatchNormalization\n",
        "from keras.layers import Conv2D,MaxPooling2D\n",
        "import os\n",
        "from keras.optimizers import RMSprop,SGD,Adam\n",
        "from keras.callbacks import ModelCheckpoint, EarlyStopping, ReduceLROnPlateau"
      ],
      "execution_count": 4,
      "outputs": []
    },
    {
      "cell_type": "code",
      "metadata": {
        "id": "vkF2jyJUq0Hl"
      },
      "source": [
        "# dataset has 7 classes, but we'll use 5\n",
        "num_classes=5\n",
        "# img size\n",
        "img_rows,img_cols=48,48\n",
        "batch_size=32"
      ],
      "execution_count": 5,
      "outputs": []
    },
    {
      "cell_type": "code",
      "metadata": {
        "id": "Rob0YUTTrBNB"
      },
      "source": [
        "train_data_dir='/content/drive/MyDrive/fer2013/train'\n",
        "validation_data_dir='/content/drive/MyDrive/fer2013/validation'"
      ],
      "execution_count": 6,
      "outputs": []
    },
    {
      "cell_type": "markdown",
      "metadata": {
        "id": "cyMHtdfYrS02"
      },
      "source": [
        "Image augmentation to create more samples"
      ]
    },
    {
      "cell_type": "code",
      "metadata": {
        "id": "AL-STb9xrLoi"
      },
      "source": [
        "train_datagen = ImageDataGenerator(\n",
        "    #scale\n",
        "    rescale=1./255,\n",
        "    rotation_range=30,\n",
        "    shear_range=0.3,\n",
        "    zoom_range=0.3,\n",
        "    width_shift_range=0.4,\n",
        "    height_shift_range=0.4,\n",
        "    horizontal_flip=True,\n",
        "    fill_mode='nearest')\n",
        "validation_datagen = ImageDataGenerator(rescale=1./255)"
      ],
      "execution_count": 7,
      "outputs": []
    },
    {
      "cell_type": "code",
      "metadata": {
        "colab": {
          "base_uri": "https://localhost:8080/"
        },
        "id": "nVzhNG0qraGf",
        "outputId": "b1905fdd-719e-4f08-e6ff-c0038c7c3ed1"
      },
      "source": [
        "train_generator = train_datagen.flow_from_directory(\n",
        " train_data_dir,\n",
        " color_mode='grayscale',\n",
        " target_size=(img_rows,img_cols),\n",
        " batch_size=batch_size,\n",
        " class_mode='categorical',\n",
        " shuffle=True)\n",
        "validation_generator = validation_datagen.flow_from_directory(\n",
        " validation_data_dir,\n",
        " color_mode='grayscale',\n",
        " target_size=(img_rows,img_cols),\n",
        " batch_size=batch_size,\n",
        " class_mode='categorical',\n",
        " shuffle=True)"
      ],
      "execution_count": 8,
      "outputs": [
        {
          "output_type": "stream",
          "text": [
            "Found 24256 images belonging to 5 classes.\n",
            "Found 3006 images belonging to 5 classes.\n"
          ],
          "name": "stdout"
        }
      ]
    },
    {
      "cell_type": "code",
      "metadata": {
        "id": "6gbAIt_triMK"
      },
      "source": [
        "model = Sequential()"
      ],
      "execution_count": 9,
      "outputs": []
    },
    {
      "cell_type": "markdown",
      "metadata": {
        "id": "kutBThq4r-21"
      },
      "source": [
        "building the model"
      ]
    },
    {
      "cell_type": "code",
      "metadata": {
        "id": "bmOlokQor7Y7"
      },
      "source": [
        "model.add(Conv2D(32,(3,3),padding='same',kernel_initializer='he_normal',\n",
        "                 input_shape=(img_rows,img_cols,1)))\n",
        "model.add(Activation('elu'))\n",
        "model.add(BatchNormalization())\n",
        "model.add(Conv2D(32,(3,3),padding='same',kernel_initializer='he_normal',\n",
        "                 input_shape=(img_rows,img_cols,1)))\n",
        "model.add(Activation('elu'))\n",
        "model.add(BatchNormalization())\n",
        "model.add(MaxPooling2D(pool_size=(2,2)))\n",
        "model.add(Dropout(0.2))\n",
        "#Block-2\n",
        "model.add(Conv2D(64,(3,3),padding='same',kernel_initializer='he_normal'))\n",
        "model.add(Activation('elu'))\n",
        "model.add(BatchNormalization())\n",
        "model.add(Conv2D(64,(3,3),padding='same',kernel_initializer='he_normal'))\n",
        "model.add(Activation('elu'))\n",
        "model.add(BatchNormalization())\n",
        "model.add(MaxPooling2D(pool_size=(2,2)))\n",
        "model.add(Dropout(0.2))\n",
        "#Block-3\n",
        "model.add(Conv2D(128,(3,3),padding='same',kernel_initializer='he_normal'))\n",
        "model.add(Activation('elu'))\n",
        "model.add(BatchNormalization())\n",
        "model.add(Conv2D(128,(3,3),padding='same',kernel_initializer='he_normal'))\n",
        "model.add(Activation('elu'))\n",
        "model.add(BatchNormalization())\n",
        "model.add(MaxPooling2D(pool_size=(2,2)))\n",
        "model.add(Dropout(0.2))\n",
        "#Block-4\n",
        "model.add(Conv2D(256,(3,3),padding='same',kernel_initializer='he_normal'))\n",
        "model.add(Activation('elu'))\n",
        "model.add(BatchNormalization())\n",
        "model.add(Conv2D(256,(3,3),padding='same',kernel_initializer='he_normal'))\n",
        "model.add(Activation('elu'))\n",
        "model.add(BatchNormalization())\n",
        "model.add(MaxPooling2D(pool_size=(2,2)))\n",
        "model.add(Dropout(0.2))\n",
        "#Block-5\n",
        "model.add(Flatten())\n",
        "model.add(Dense(64,kernel_initializer='he_normal'))\n",
        "model.add(Activation('elu'))\n",
        "model.add(BatchNormalization())\n",
        "model.add(Dropout(0.5))\n",
        "#Block-6\n",
        "model.add(Dense(64,kernel_initializer='he_normal'))\n",
        "model.add(Activation('elu'))\n",
        "model.add(BatchNormalization())\n",
        "model.add(Dropout(0.5))\n",
        "#Block-7\n",
        "model.add(Dense(num_classes,kernel_initializer='he_normal'))\n",
        "model.add(Activation('softmax'))\n"
      ],
      "execution_count": 10,
      "outputs": []
    },
    {
      "cell_type": "code",
      "metadata": {
        "colab": {
          "base_uri": "https://localhost:8080/"
        },
        "id": "efrJE-kcsAPd",
        "outputId": "31fc2e38-3d1a-49dc-b605-9c0ae9cb14d1"
      },
      "source": [
        "model.summary()"
      ],
      "execution_count": 11,
      "outputs": [
        {
          "output_type": "stream",
          "text": [
            "Model: \"sequential\"\n",
            "_________________________________________________________________\n",
            "Layer (type)                 Output Shape              Param #   \n",
            "=================================================================\n",
            "conv2d (Conv2D)              (None, 48, 48, 32)        320       \n",
            "_________________________________________________________________\n",
            "activation (Activation)      (None, 48, 48, 32)        0         \n",
            "_________________________________________________________________\n",
            "batch_normalization (BatchNo (None, 48, 48, 32)        128       \n",
            "_________________________________________________________________\n",
            "conv2d_1 (Conv2D)            (None, 48, 48, 32)        9248      \n",
            "_________________________________________________________________\n",
            "activation_1 (Activation)    (None, 48, 48, 32)        0         \n",
            "_________________________________________________________________\n",
            "batch_normalization_1 (Batch (None, 48, 48, 32)        128       \n",
            "_________________________________________________________________\n",
            "max_pooling2d (MaxPooling2D) (None, 24, 24, 32)        0         \n",
            "_________________________________________________________________\n",
            "dropout (Dropout)            (None, 24, 24, 32)        0         \n",
            "_________________________________________________________________\n",
            "conv2d_2 (Conv2D)            (None, 24, 24, 64)        18496     \n",
            "_________________________________________________________________\n",
            "activation_2 (Activation)    (None, 24, 24, 64)        0         \n",
            "_________________________________________________________________\n",
            "batch_normalization_2 (Batch (None, 24, 24, 64)        256       \n",
            "_________________________________________________________________\n",
            "conv2d_3 (Conv2D)            (None, 24, 24, 64)        36928     \n",
            "_________________________________________________________________\n",
            "activation_3 (Activation)    (None, 24, 24, 64)        0         \n",
            "_________________________________________________________________\n",
            "batch_normalization_3 (Batch (None, 24, 24, 64)        256       \n",
            "_________________________________________________________________\n",
            "max_pooling2d_1 (MaxPooling2 (None, 12, 12, 64)        0         \n",
            "_________________________________________________________________\n",
            "dropout_1 (Dropout)          (None, 12, 12, 64)        0         \n",
            "_________________________________________________________________\n",
            "conv2d_4 (Conv2D)            (None, 12, 12, 128)       73856     \n",
            "_________________________________________________________________\n",
            "activation_4 (Activation)    (None, 12, 12, 128)       0         \n",
            "_________________________________________________________________\n",
            "batch_normalization_4 (Batch (None, 12, 12, 128)       512       \n",
            "_________________________________________________________________\n",
            "conv2d_5 (Conv2D)            (None, 12, 12, 128)       147584    \n",
            "_________________________________________________________________\n",
            "activation_5 (Activation)    (None, 12, 12, 128)       0         \n",
            "_________________________________________________________________\n",
            "batch_normalization_5 (Batch (None, 12, 12, 128)       512       \n",
            "_________________________________________________________________\n",
            "max_pooling2d_2 (MaxPooling2 (None, 6, 6, 128)         0         \n",
            "_________________________________________________________________\n",
            "dropout_2 (Dropout)          (None, 6, 6, 128)         0         \n",
            "_________________________________________________________________\n",
            "conv2d_6 (Conv2D)            (None, 6, 6, 256)         295168    \n",
            "_________________________________________________________________\n",
            "activation_6 (Activation)    (None, 6, 6, 256)         0         \n",
            "_________________________________________________________________\n",
            "batch_normalization_6 (Batch (None, 6, 6, 256)         1024      \n",
            "_________________________________________________________________\n",
            "conv2d_7 (Conv2D)            (None, 6, 6, 256)         590080    \n",
            "_________________________________________________________________\n",
            "activation_7 (Activation)    (None, 6, 6, 256)         0         \n",
            "_________________________________________________________________\n",
            "batch_normalization_7 (Batch (None, 6, 6, 256)         1024      \n",
            "_________________________________________________________________\n",
            "max_pooling2d_3 (MaxPooling2 (None, 3, 3, 256)         0         \n",
            "_________________________________________________________________\n",
            "dropout_3 (Dropout)          (None, 3, 3, 256)         0         \n",
            "_________________________________________________________________\n",
            "flatten (Flatten)            (None, 2304)              0         \n",
            "_________________________________________________________________\n",
            "dense (Dense)                (None, 64)                147520    \n",
            "_________________________________________________________________\n",
            "activation_8 (Activation)    (None, 64)                0         \n",
            "_________________________________________________________________\n",
            "batch_normalization_8 (Batch (None, 64)                256       \n",
            "_________________________________________________________________\n",
            "dropout_4 (Dropout)          (None, 64)                0         \n",
            "_________________________________________________________________\n",
            "dense_1 (Dense)              (None, 64)                4160      \n",
            "_________________________________________________________________\n",
            "activation_9 (Activation)    (None, 64)                0         \n",
            "_________________________________________________________________\n",
            "batch_normalization_9 (Batch (None, 64)                256       \n",
            "_________________________________________________________________\n",
            "dropout_5 (Dropout)          (None, 64)                0         \n",
            "_________________________________________________________________\n",
            "dense_2 (Dense)              (None, 5)                 325       \n",
            "_________________________________________________________________\n",
            "activation_10 (Activation)   (None, 5)                 0         \n",
            "=================================================================\n",
            "Total params: 1,328,037\n",
            "Trainable params: 1,325,861\n",
            "Non-trainable params: 2,176\n",
            "_________________________________________________________________\n"
          ],
          "name": "stdout"
        }
      ]
    },
    {
      "cell_type": "code",
      "metadata": {
        "id": "dNBuz6pHsDT_"
      },
      "source": [
        "#monitor model loss\n",
        "checkpoint = ModelCheckpoint('EmotionDetectionModel.h5',\n",
        "                             monitor='val_loss',\n",
        "                             mode='min',\n",
        "                             save_best_only=True,\n",
        "                             verbose=2)\n",
        "# stop model training by checking the given variables\n",
        "earlystop = EarlyStopping(monitor='val_loss',\n",
        "                          min_delta=0,\n",
        "                          patience=3,\n",
        "                          verbose=1,\n",
        "                          restore_best_weights=True\n",
        "                          )\n",
        "reduce_lr = ReduceLROnPlateau(monitor='val_loss',\n",
        "                              factor=0.2,\n",
        "                              patience=3,\n",
        "                              verbose=1,\n",
        "                              min_delta=0.0001)\n",
        "callbacks = [earlystop,checkpoint,reduce_lr]"
      ],
      "execution_count": 12,
      "outputs": []
    },
    {
      "cell_type": "code",
      "metadata": {
        "colab": {
          "base_uri": "https://localhost:8080/"
        },
        "id": "t-YnOWotsYNR",
        "outputId": "9c254332-0756-4ad6-e66c-b5ca1abf391d"
      },
      "source": [
        "#compile model\n",
        "model.compile(loss='categorical_crossentropy',\n",
        " optimizer = Adam(lr=0.001),\n",
        " metrics=['accuracy'])\n",
        "nb_train_samples = 24176\n",
        "nb_validation_samples = 3006\n",
        "epochs=25\n",
        "history=model.fit(\n",
        " train_generator,\n",
        " steps_per_epoch=nb_train_samples//batch_size,\n",
        " epochs=epochs,\n",
        " callbacks=callbacks,\n",
        " validation_data=validation_generator,\n",
        " validation_steps=nb_validation_samples//batch_size)"
      ],
      "execution_count": 13,
      "outputs": [
        {
          "output_type": "stream",
          "text": [
            "Epoch 1/25\n",
            "755/755 [==============================] - 10888s 14s/step - loss: 2.1664 - accuracy: 0.2223 - val_loss: 1.5436 - val_accuracy: 0.3108\n",
            "\n",
            "Epoch 00001: val_loss improved from inf to 1.54356, saving model to EmotionDetectionModel.h5\n",
            "Epoch 2/25\n",
            "755/755 [==============================] - 644s 853ms/step - loss: 1.5951 - accuracy: 0.2723 - val_loss: 1.5522 - val_accuracy: 0.3031\n",
            "\n",
            "Epoch 00002: val_loss did not improve from 1.54356\n",
            "Epoch 3/25\n",
            "755/755 [==============================] - 643s 852ms/step - loss: 1.5605 - accuracy: 0.2914 - val_loss: 1.5125 - val_accuracy: 0.3229\n",
            "\n",
            "Epoch 00003: val_loss improved from 1.54356 to 1.51249, saving model to EmotionDetectionModel.h5\n",
            "Epoch 4/25\n",
            "755/755 [==============================] - 646s 856ms/step - loss: 1.5349 - accuracy: 0.3140 - val_loss: 1.4944 - val_accuracy: 0.3468\n",
            "\n",
            "Epoch 00004: val_loss improved from 1.51249 to 1.49441, saving model to EmotionDetectionModel.h5\n",
            "Epoch 5/25\n",
            "755/755 [==============================] - 645s 854ms/step - loss: 1.4814 - accuracy: 0.3449 - val_loss: 1.5298 - val_accuracy: 0.3881\n",
            "\n",
            "Epoch 00005: val_loss did not improve from 1.49441\n",
            "Epoch 6/25\n",
            "755/755 [==============================] - 641s 848ms/step - loss: 1.3932 - accuracy: 0.4040 - val_loss: 1.3025 - val_accuracy: 0.4802\n",
            "\n",
            "Epoch 00006: val_loss improved from 1.49441 to 1.30254, saving model to EmotionDetectionModel.h5\n",
            "Epoch 7/25\n",
            "755/755 [==============================] - 641s 849ms/step - loss: 1.3056 - accuracy: 0.4517 - val_loss: 1.3215 - val_accuracy: 0.4892\n",
            "\n",
            "Epoch 00007: val_loss did not improve from 1.30254\n",
            "Epoch 8/25\n",
            "755/755 [==============================] - 643s 852ms/step - loss: 1.2468 - accuracy: 0.4891 - val_loss: 1.5924 - val_accuracy: 0.4909\n",
            "\n",
            "Epoch 00008: val_loss did not improve from 1.30254\n",
            "Epoch 9/25\n",
            "755/755 [==============================] - 641s 849ms/step - loss: 1.1953 - accuracy: 0.5129 - val_loss: 1.2673 - val_accuracy: 0.5363\n",
            "\n",
            "Epoch 00009: val_loss improved from 1.30254 to 1.26734, saving model to EmotionDetectionModel.h5\n",
            "Epoch 10/25\n",
            "755/755 [==============================] - 633s 839ms/step - loss: 1.1611 - accuracy: 0.5224 - val_loss: 1.2712 - val_accuracy: 0.5749\n",
            "\n",
            "Epoch 00010: val_loss did not improve from 1.26734\n",
            "Epoch 11/25\n",
            "755/755 [==============================] - 635s 841ms/step - loss: 1.1343 - accuracy: 0.5421 - val_loss: 1.3790 - val_accuracy: 0.5262\n",
            "\n",
            "Epoch 00011: val_loss did not improve from 1.26734\n",
            "Epoch 12/25\n",
            "755/755 [==============================] - 631s 835ms/step - loss: 1.1238 - accuracy: 0.5504 - val_loss: 1.2541 - val_accuracy: 0.5397\n",
            "\n",
            "Epoch 00012: val_loss improved from 1.26734 to 1.25405, saving model to EmotionDetectionModel.h5\n",
            "Epoch 13/25\n",
            "755/755 [==============================] - 632s 837ms/step - loss: 1.0900 - accuracy: 0.5664 - val_loss: 1.2445 - val_accuracy: 0.5618\n",
            "\n",
            "Epoch 00013: val_loss improved from 1.25405 to 1.24453, saving model to EmotionDetectionModel.h5\n",
            "Epoch 14/25\n",
            "755/755 [==============================] - 636s 843ms/step - loss: 1.0817 - accuracy: 0.5741 - val_loss: 1.2697 - val_accuracy: 0.5652\n",
            "\n",
            "Epoch 00014: val_loss did not improve from 1.24453\n",
            "Epoch 15/25\n",
            "755/755 [==============================] - 646s 856ms/step - loss: 1.0774 - accuracy: 0.5722 - val_loss: 1.2184 - val_accuracy: 0.5944\n",
            "\n",
            "Epoch 00015: val_loss improved from 1.24453 to 1.21835, saving model to EmotionDetectionModel.h5\n",
            "Epoch 16/25\n",
            "755/755 [==============================] - 643s 852ms/step - loss: 1.0529 - accuracy: 0.5861 - val_loss: 1.2752 - val_accuracy: 0.5917\n",
            "\n",
            "Epoch 00016: val_loss did not improve from 1.21835\n",
            "Epoch 17/25\n",
            "755/755 [==============================] - 637s 843ms/step - loss: 1.0349 - accuracy: 0.5985 - val_loss: 1.1844 - val_accuracy: 0.6089\n",
            "\n",
            "Epoch 00017: val_loss improved from 1.21835 to 1.18438, saving model to EmotionDetectionModel.h5\n",
            "Epoch 18/25\n",
            "755/755 [==============================] - 642s 850ms/step - loss: 1.0323 - accuracy: 0.5952 - val_loss: 1.2069 - val_accuracy: 0.6048\n",
            "\n",
            "Epoch 00018: val_loss did not improve from 1.18438\n",
            "Epoch 19/25\n",
            "755/755 [==============================] - 645s 854ms/step - loss: 1.0265 - accuracy: 0.5973 - val_loss: 1.2449 - val_accuracy: 0.5860\n",
            "\n",
            "Epoch 00019: val_loss did not improve from 1.18438\n",
            "Epoch 20/25\n",
            "755/755 [==============================] - 641s 848ms/step - loss: 1.0146 - accuracy: 0.6072 - val_loss: 1.2271 - val_accuracy: 0.5850\n",
            "Restoring model weights from the end of the best epoch.\n",
            "\n",
            "Epoch 00020: val_loss did not improve from 1.18438\n",
            "\n",
            "Epoch 00020: ReduceLROnPlateau reducing learning rate to 0.00020000000949949026.\n",
            "Epoch 00020: early stopping\n"
          ],
          "name": "stdout"
        }
      ]
    }
  ]
}